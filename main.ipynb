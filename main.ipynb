{
 "cells": [
  {
   "cell_type": "code",
   "execution_count": 13,
   "metadata": {},
   "outputs": [
    {
     "name": "stdout",
     "output_type": "stream",
     "text": [
      "Requirement already satisfied: qiskit[visualization] in c:\\users\\koqut\\onedrive\\desktop\\intacht\\quantum\\.venv\\lib\\site-packages (1.3.1)Note: you may need to restart the kernel to use updated packages.\n",
      "\n",
      "Requirement already satisfied: rustworkx>=0.15.0 in c:\\users\\koqut\\onedrive\\desktop\\intacht\\quantum\\.venv\\lib\\site-packages (from qiskit[visualization]) (0.15.1)\n",
      "Requirement already satisfied: numpy<3,>=1.17 in c:\\users\\koqut\\onedrive\\desktop\\intacht\\quantum\\.venv\\lib\\site-packages (from qiskit[visualization]) (2.2.1)\n",
      "Requirement already satisfied: scipy>=1.5 in c:\\users\\koqut\\onedrive\\desktop\\intacht\\quantum\\.venv\\lib\\site-packages (from qiskit[visualization]) (1.15.1)\n",
      "Requirement already satisfied: sympy>=1.3 in c:\\users\\koqut\\onedrive\\desktop\\intacht\\quantum\\.venv\\lib\\site-packages (from qiskit[visualization]) (1.13.3)\n",
      "Requirement already satisfied: dill>=0.3 in c:\\users\\koqut\\onedrive\\desktop\\intacht\\quantum\\.venv\\lib\\site-packages (from qiskit[visualization]) (0.3.9)\n",
      "Requirement already satisfied: python-dateutil>=2.8.0 in c:\\users\\koqut\\onedrive\\desktop\\intacht\\quantum\\.venv\\lib\\site-packages (from qiskit[visualization]) (2.9.0.post0)\n",
      "Requirement already satisfied: stevedore>=3.0.0 in c:\\users\\koqut\\onedrive\\desktop\\intacht\\quantum\\.venv\\lib\\site-packages (from qiskit[visualization]) (5.4.0)\n",
      "Requirement already satisfied: typing-extensions in c:\\users\\koqut\\onedrive\\desktop\\intacht\\quantum\\.venv\\lib\\site-packages (from qiskit[visualization]) (4.12.2)\n",
      "Requirement already satisfied: symengine<0.14,>=0.11 in c:\\users\\koqut\\onedrive\\desktop\\intacht\\quantum\\.venv\\lib\\site-packages (from qiskit[visualization]) (0.13.0)\n",
      "Requirement already satisfied: matplotlib>=3.3 in c:\\users\\koqut\\onedrive\\desktop\\intacht\\quantum\\.venv\\lib\\site-packages (from qiskit[visualization]) (3.10.0)\n",
      "Requirement already satisfied: pydot in c:\\users\\koqut\\onedrive\\desktop\\intacht\\quantum\\.venv\\lib\\site-packages (from qiskit[visualization]) (3.0.4)\n",
      "Requirement already satisfied: Pillow>=4.2.1 in c:\\users\\koqut\\onedrive\\desktop\\intacht\\quantum\\.venv\\lib\\site-packages (from qiskit[visualization]) (11.1.0)\n",
      "Requirement already satisfied: pylatexenc>=1.4 in c:\\users\\koqut\\onedrive\\desktop\\intacht\\quantum\\.venv\\lib\\site-packages (from qiskit[visualization]) (2.10)\n",
      "Requirement already satisfied: seaborn>=0.9.0 in c:\\users\\koqut\\onedrive\\desktop\\intacht\\quantum\\.venv\\lib\\site-packages (from qiskit[visualization]) (0.13.2)\n",
      "Requirement already satisfied: contourpy>=1.0.1 in c:\\users\\koqut\\onedrive\\desktop\\intacht\\quantum\\.venv\\lib\\site-packages (from matplotlib>=3.3->qiskit[visualization]) (1.3.1)\n",
      "Requirement already satisfied: cycler>=0.10 in c:\\users\\koqut\\onedrive\\desktop\\intacht\\quantum\\.venv\\lib\\site-packages (from matplotlib>=3.3->qiskit[visualization]) (0.12.1)\n",
      "Requirement already satisfied: fonttools>=4.22.0 in c:\\users\\koqut\\onedrive\\desktop\\intacht\\quantum\\.venv\\lib\\site-packages (from matplotlib>=3.3->qiskit[visualization]) (4.55.3)\n",
      "Requirement already satisfied: kiwisolver>=1.3.1 in c:\\users\\koqut\\onedrive\\desktop\\intacht\\quantum\\.venv\\lib\\site-packages (from matplotlib>=3.3->qiskit[visualization]) (1.4.8)\n",
      "Requirement already satisfied: packaging>=20.0 in c:\\users\\koqut\\onedrive\\desktop\\intacht\\quantum\\.venv\\lib\\site-packages (from matplotlib>=3.3->qiskit[visualization]) (24.2)\n",
      "Requirement already satisfied: pyparsing>=2.3.1 in c:\\users\\koqut\\onedrive\\desktop\\intacht\\quantum\\.venv\\lib\\site-packages (from matplotlib>=3.3->qiskit[visualization]) (3.2.1)\n",
      "Requirement already satisfied: six>=1.5 in c:\\users\\koqut\\onedrive\\desktop\\intacht\\quantum\\.venv\\lib\\site-packages (from python-dateutil>=2.8.0->qiskit[visualization]) (1.17.0)\n",
      "Requirement already satisfied: pandas>=1.2 in c:\\users\\koqut\\onedrive\\desktop\\intacht\\quantum\\.venv\\lib\\site-packages (from seaborn>=0.9.0->qiskit[visualization]) (2.2.3)\n",
      "Requirement already satisfied: pbr>=2.0.0 in c:\\users\\koqut\\onedrive\\desktop\\intacht\\quantum\\.venv\\lib\\site-packages (from stevedore>=3.0.0->qiskit[visualization]) (6.1.0)\n",
      "Requirement already satisfied: mpmath<1.4,>=1.1.0 in c:\\users\\koqut\\onedrive\\desktop\\intacht\\quantum\\.venv\\lib\\site-packages (from sympy>=1.3->qiskit[visualization]) (1.3.0)\n",
      "Requirement already satisfied: pytz>=2020.1 in c:\\users\\koqut\\onedrive\\desktop\\intacht\\quantum\\.venv\\lib\\site-packages (from pandas>=1.2->seaborn>=0.9.0->qiskit[visualization]) (2024.2)\n",
      "Requirement already satisfied: tzdata>=2022.7 in c:\\users\\koqut\\onedrive\\desktop\\intacht\\quantum\\.venv\\lib\\site-packages (from pandas>=1.2->seaborn>=0.9.0->qiskit[visualization]) (2024.2)\n"
     ]
    },
    {
     "name": "stderr",
     "output_type": "stream",
     "text": [
      "\n",
      "[notice] A new release of pip available: 22.3.1 -> 24.3.1\n",
      "[notice] To update, run: python.exe -m pip install --upgrade pip\n"
     ]
    },
    {
     "name": "stdout",
     "output_type": "stream",
     "text": [
      "Requirement already satisfied: qiskit-ibm-runtime in c:\\users\\koqut\\onedrive\\desktop\\intacht\\quantum\\.venv\\lib\\site-packages (0.34.0)\n",
      "Requirement already satisfied: requests>=2.19 in c:\\users\\koqut\\onedrive\\desktop\\intacht\\quantum\\.venv\\lib\\site-packages (from qiskit-ibm-runtime) (2.32.3)\n",
      "Requirement already satisfied: requests-ntlm>=1.1.0 in c:\\users\\koqut\\onedrive\\desktop\\intacht\\quantum\\.venv\\lib\\site-packages (from qiskit-ibm-runtime) (1.3.0)\n",
      "Requirement already satisfied: numpy>=1.13 in c:\\users\\koqut\\onedrive\\desktop\\intacht\\quantum\\.venv\\lib\\site-packages (from qiskit-ibm-runtime) (2.2.1)\n",
      "Requirement already satisfied: urllib3>=1.21.1 in c:\\users\\koqut\\onedrive\\desktop\\intacht\\quantum\\.venv\\lib\\site-packages (from qiskit-ibm-runtime) (2.3.0)\n",
      "Requirement already satisfied: python-dateutil>=2.8.0 in c:\\users\\koqut\\onedrive\\desktop\\intacht\\quantum\\.venv\\lib\\site-packages (from qiskit-ibm-runtime) (2.9.0.post0)\n",
      "Requirement already satisfied: websocket-client>=1.5.1 in c:\\users\\koqut\\onedrive\\desktop\\intacht\\quantum\\.venv\\lib\\site-packages (from qiskit-ibm-runtime) (1.8.0)\n",
      "Requirement already satisfied: ibm-platform-services>=0.22.6 in c:\\users\\koqut\\onedrive\\desktop\\intacht\\quantum\\.venv\\lib\\site-packages (from qiskit-ibm-runtime) (0.59.1)\n",
      "Requirement already satisfied: pydantic<2.10,>=2.5.0 in c:\\users\\koqut\\onedrive\\desktop\\intacht\\quantum\\.venv\\lib\\site-packages (from qiskit-ibm-runtime) (2.9.2)\n",
      "Requirement already satisfied: qiskit>=1.1.0 in c:\\users\\koqut\\onedrive\\desktop\\intacht\\quantum\\.venv\\lib\\site-packages (from qiskit-ibm-runtime) (1.3.1)\n",
      "Requirement already satisfied: ibm_cloud_sdk_core<4.0.0,>=3.22.0 in c:\\users\\koqut\\onedrive\\desktop\\intacht\\quantum\\.venv\\lib\\site-packages (from ibm-platform-services>=0.22.6->qiskit-ibm-runtime) (3.22.1)\n",
      "Requirement already satisfied: annotated-types>=0.6.0 in c:\\users\\koqut\\onedrive\\desktop\\intacht\\quantum\\.venv\\lib\\site-packages (from pydantic<2.10,>=2.5.0->qiskit-ibm-runtime) (0.7.0)\n",
      "Requirement already satisfied: pydantic-core==2.23.4 in c:\\users\\koqut\\onedrive\\desktop\\intacht\\quantum\\.venv\\lib\\site-packages (from pydantic<2.10,>=2.5.0->qiskit-ibm-runtime) (2.23.4)\n",
      "Requirement already satisfied: typing-extensions>=4.6.1 in c:\\users\\koqut\\onedrive\\desktop\\intacht\\quantum\\.venv\\lib\\site-packages (from pydantic<2.10,>=2.5.0->qiskit-ibm-runtime) (4.12.2)\n",
      "Requirement already satisfied: six>=1.5 in c:\\users\\koqut\\onedrive\\desktop\\intacht\\quantum\\.venv\\lib\\site-packages (from python-dateutil>=2.8.0->qiskit-ibm-runtime) (1.17.0)\n",
      "Requirement already satisfied: rustworkx>=0.15.0 in c:\\users\\koqut\\onedrive\\desktop\\intacht\\quantum\\.venv\\lib\\site-packages (from qiskit>=1.1.0->qiskit-ibm-runtime) (0.15.1)\n",
      "Requirement already satisfied: scipy>=1.5 in c:\\users\\koqut\\onedrive\\desktop\\intacht\\quantum\\.venv\\lib\\site-packages (from qiskit>=1.1.0->qiskit-ibm-runtime) (1.15.1)\n",
      "Requirement already satisfied: sympy>=1.3 in c:\\users\\koqut\\onedrive\\desktop\\intacht\\quantum\\.venv\\lib\\site-packages (from qiskit>=1.1.0->qiskit-ibm-runtime) (1.13.3)\n",
      "Requirement already satisfied: dill>=0.3 in c:\\users\\koqut\\onedrive\\desktop\\intacht\\quantum\\.venv\\lib\\site-packages (from qiskit>=1.1.0->qiskit-ibm-runtime) (0.3.9)\n",
      "Requirement already satisfied: stevedore>=3.0.0 in c:\\users\\koqut\\onedrive\\desktop\\intacht\\quantum\\.venv\\lib\\site-packages (from qiskit>=1.1.0->qiskit-ibm-runtime) (5.4.0)\n",
      "Requirement already satisfied: symengine<0.14,>=0.11 in c:\\users\\koqut\\onedrive\\desktop\\intacht\\quantum\\.venv\\lib\\site-packages (from qiskit>=1.1.0->qiskit-ibm-runtime) (0.13.0)\n",
      "Requirement already satisfied: charset-normalizer<4,>=2 in c:\\users\\koqut\\onedrive\\desktop\\intacht\\quantum\\.venv\\lib\\site-packages (from requests>=2.19->qiskit-ibm-runtime) (3.4.1)\n",
      "Requirement already satisfied: idna<4,>=2.5 in c:\\users\\koqut\\onedrive\\desktop\\intacht\\quantum\\.venv\\lib\\site-packages (from requests>=2.19->qiskit-ibm-runtime) (3.10)\n",
      "Requirement already satisfied: certifi>=2017.4.17 in c:\\users\\koqut\\onedrive\\desktop\\intacht\\quantum\\.venv\\lib\\site-packages (from requests>=2.19->qiskit-ibm-runtime) (2024.12.14)\n",
      "Requirement already satisfied: cryptography>=1.3 in c:\\users\\koqut\\onedrive\\desktop\\intacht\\quantum\\.venv\\lib\\site-packages (from requests-ntlm>=1.1.0->qiskit-ibm-runtime) (44.0.0)\n",
      "Requirement already satisfied: pyspnego>=0.4.0 in c:\\users\\koqut\\onedrive\\desktop\\intacht\\quantum\\.venv\\lib\\site-packages (from requests-ntlm>=1.1.0->qiskit-ibm-runtime) (0.11.2)\n",
      "Requirement already satisfied: cffi>=1.12 in c:\\users\\koqut\\onedrive\\desktop\\intacht\\quantum\\.venv\\lib\\site-packages (from cryptography>=1.3->requests-ntlm>=1.1.0->qiskit-ibm-runtime) (1.17.1)\n",
      "Requirement already satisfied: PyJWT<3.0.0,>=2.8.0 in c:\\users\\koqut\\onedrive\\desktop\\intacht\\quantum\\.venv\\lib\\site-packages (from ibm_cloud_sdk_core<4.0.0,>=3.22.0->ibm-platform-services>=0.22.6->qiskit-ibm-runtime) (2.10.1)\n",
      "Requirement already satisfied: sspilib>=0.1.0 in c:\\users\\koqut\\onedrive\\desktop\\intacht\\quantum\\.venv\\lib\\site-packages (from pyspnego>=0.4.0->requests-ntlm>=1.1.0->qiskit-ibm-runtime) (0.2.0)\n",
      "Requirement already satisfied: pbr>=2.0.0 in c:\\users\\koqut\\onedrive\\desktop\\intacht\\quantum\\.venv\\lib\\site-packages (from stevedore>=3.0.0->qiskit>=1.1.0->qiskit-ibm-runtime) (6.1.0)\n",
      "Requirement already satisfied: mpmath<1.4,>=1.1.0 in c:\\users\\koqut\\onedrive\\desktop\\intacht\\quantum\\.venv\\lib\\site-packages (from sympy>=1.3->qiskit>=1.1.0->qiskit-ibm-runtime) (1.3.0)\n",
      "Requirement already satisfied: pycparser in c:\\users\\koqut\\onedrive\\desktop\\intacht\\quantum\\.venv\\lib\\site-packages (from cffi>=1.12->cryptography>=1.3->requests-ntlm>=1.1.0->qiskit-ibm-runtime) (2.22)\n",
      "Note: you may need to restart the kernel to use updated packages.\n"
     ]
    },
    {
     "name": "stderr",
     "output_type": "stream",
     "text": [
      "\n",
      "[notice] A new release of pip available: 22.3.1 -> 24.3.1\n",
      "[notice] To update, run: python.exe -m pip install --upgrade pip\n"
     ]
    },
    {
     "name": "stdout",
     "output_type": "stream",
     "text": [
      "Collecting qiskit-aerNote: you may need to restart the kernel to use updated packages.\n",
      "\n",
      "  Downloading qiskit_aer-0.15.1-cp311-cp311-win_amd64.whl (9.5 MB)\n",
      "     ---------------------------------------- 9.5/9.5 MB 3.6 MB/s eta 0:00:00\n",
      "Requirement already satisfied: qiskit>=1.1.0 in c:\\users\\koqut\\onedrive\\desktop\\intacht\\quantum\\.venv\\lib\\site-packages (from qiskit-aer) (1.3.1)\n",
      "Requirement already satisfied: numpy>=1.16.3 in c:\\users\\koqut\\onedrive\\desktop\\intacht\\quantum\\.venv\\lib\\site-packages (from qiskit-aer) (2.2.1)\n",
      "Requirement already satisfied: scipy>=1.0 in c:\\users\\koqut\\onedrive\\desktop\\intacht\\quantum\\.venv\\lib\\site-packages (from qiskit-aer) (1.15.1)\n",
      "Requirement already satisfied: psutil>=5 in c:\\users\\koqut\\onedrive\\desktop\\intacht\\quantum\\.venv\\lib\\site-packages (from qiskit-aer) (6.1.1)\n",
      "Requirement already satisfied: rustworkx>=0.15.0 in c:\\users\\koqut\\onedrive\\desktop\\intacht\\quantum\\.venv\\lib\\site-packages (from qiskit>=1.1.0->qiskit-aer) (0.15.1)\n",
      "Requirement already satisfied: sympy>=1.3 in c:\\users\\koqut\\onedrive\\desktop\\intacht\\quantum\\.venv\\lib\\site-packages (from qiskit>=1.1.0->qiskit-aer) (1.13.3)\n",
      "Requirement already satisfied: dill>=0.3 in c:\\users\\koqut\\onedrive\\desktop\\intacht\\quantum\\.venv\\lib\\site-packages (from qiskit>=1.1.0->qiskit-aer) (0.3.9)\n",
      "Requirement already satisfied: python-dateutil>=2.8.0 in c:\\users\\koqut\\onedrive\\desktop\\intacht\\quantum\\.venv\\lib\\site-packages (from qiskit>=1.1.0->qiskit-aer) (2.9.0.post0)\n",
      "Requirement already satisfied: stevedore>=3.0.0 in c:\\users\\koqut\\onedrive\\desktop\\intacht\\quantum\\.venv\\lib\\site-packages (from qiskit>=1.1.0->qiskit-aer) (5.4.0)\n",
      "Requirement already satisfied: typing-extensions in c:\\users\\koqut\\onedrive\\desktop\\intacht\\quantum\\.venv\\lib\\site-packages (from qiskit>=1.1.0->qiskit-aer) (4.12.2)\n",
      "Requirement already satisfied: symengine<0.14,>=0.11 in c:\\users\\koqut\\onedrive\\desktop\\intacht\\quantum\\.venv\\lib\\site-packages (from qiskit>=1.1.0->qiskit-aer) (0.13.0)\n",
      "Requirement already satisfied: six>=1.5 in c:\\users\\koqut\\onedrive\\desktop\\intacht\\quantum\\.venv\\lib\\site-packages (from python-dateutil>=2.8.0->qiskit>=1.1.0->qiskit-aer) (1.17.0)\n",
      "Requirement already satisfied: pbr>=2.0.0 in c:\\users\\koqut\\onedrive\\desktop\\intacht\\quantum\\.venv\\lib\\site-packages (from stevedore>=3.0.0->qiskit>=1.1.0->qiskit-aer) (6.1.0)\n",
      "Requirement already satisfied: mpmath<1.4,>=1.1.0 in c:\\users\\koqut\\onedrive\\desktop\\intacht\\quantum\\.venv\\lib\\site-packages (from sympy>=1.3->qiskit>=1.1.0->qiskit-aer) (1.3.0)\n",
      "Installing collected packages: qiskit-aer\n",
      "Successfully installed qiskit-aer-0.15.1\n"
     ]
    },
    {
     "name": "stderr",
     "output_type": "stream",
     "text": [
      "\n",
      "[notice] A new release of pip available: 22.3.1 -> 24.3.1\n",
      "[notice] To update, run: python.exe -m pip install --upgrade pip\n"
     ]
    }
   ],
   "source": [
    "%pip install qiskit[visualization]\n",
    "%pip install qiskit-ibm-runtime\n",
    "%pip install qiskit-aer"
   ]
  },
  {
   "cell_type": "code",
   "execution_count": null,
   "metadata": {},
   "outputs": [],
   "source": [
    "# config\n",
    "token=\"USE_YOUR_API_KEY\"\n",
    "channel=\"local\" # use \"local\" for simulator | \"ibm_quantum\" for real hardware"
   ]
  },
  {
   "cell_type": "code",
   "execution_count": 17,
   "metadata": {},
   "outputs": [
    {
     "name": "stdout",
     "output_type": "stream",
     "text": [
      "Using: aer_simulator (0.15.1: A C++ Qasm simulator with noise)\n"
     ]
    }
   ],
   "source": [
    "# obtain backend\n",
    "backend = None\n",
    "\n",
    "if channel == \"local\":\n",
    "    from qiskit_aer import AerSimulator\n",
    "\n",
    "    backend = AerSimulator()\n",
    "else:\n",
    "    from qiskit_ibm_runtime import QiskitRuntimeService\n",
    "\n",
    "    service = QiskitRuntimeService(token=token, channel=channel)\n",
    "    backend = service.least_busy(operational=True, simulator=False)\n",
    "\n",
    "print(\"Using:\", backend.name, f\"({backend.backend_version}: {backend.description})\")"
   ]
  },
  {
   "cell_type": "code",
   "execution_count": 18,
   "metadata": {},
   "outputs": [],
   "source": [
    "from qiskit.circuit import QuantumCircuit\n",
    "\n",
    "import numpy as np"
   ]
  },
  {
   "cell_type": "code",
   "execution_count": 19,
   "metadata": {},
   "outputs": [],
   "source": [
    "def circuit_amod15(a: int, power: int):\n",
    "    \"\"\"Controlled multiplication by a^power mod 15\"\"\"\n",
    "\n",
    "    if a not in [2, 4, 7, 8, 11, 13]:\n",
    "        raise ValueError(\"'a' must not have common factors with 15\")\n",
    "    \n",
    "    U = QuantumCircuit(4)\n",
    "\n",
    "    for _ in range(power):\n",
    "        if a in [2, 13]:\n",
    "            U.swap(2, 3)\n",
    "            U.swap(1, 2)\n",
    "            U.swap(0, 1)\n",
    "        if a in [7, 8]:\n",
    "            U.swap(0, 1)\n",
    "            U.swap(1, 2)\n",
    "            U.swap(2, 3)\n",
    "        if a in [4, 11]:\n",
    "            U.swap(1, 3)\n",
    "            U.swap(0, 2)\n",
    "        if a in [7, 11, 13]:\n",
    "            for q in range(4):\n",
    "                U.x(q)\n",
    "    \n",
    "    U = U.to_gate()\n",
    "    U.name = f\"{a}^{power} mod 15\"\n",
    "    \n",
    "    return U.control()"
   ]
  },
  {
   "cell_type": "code",
   "execution_count": 20,
   "metadata": {},
   "outputs": [],
   "source": [
    "def qft_dagger(n):\n",
    "    \"\"\"n-qubit QFTdagger the first n qubits in circ\"\"\"\n",
    "    qc = QuantumCircuit(n)\n",
    "    # Don't forget the Swaps!\n",
    "    for qubit in range(n//2):\n",
    "        qc.swap(qubit, n-qubit-1)\n",
    "    for j in range(n):\n",
    "        for m in range(j):\n",
    "            qc.cp(-np.pi/float(2**(j-m)), m, j)\n",
    "        qc.h(j)\n",
    "    qc.name = \"QFT†\"\n",
    "    return qc"
   ]
  },
  {
   "cell_type": "code",
   "execution_count": 21,
   "metadata": {},
   "outputs": [
    {
     "data": {
      "text/html": [
       "<pre style=\"word-wrap: normal;white-space: pre;background: #fff0;line-height: 1.1;font-family: &quot;Courier New&quot;,Courier,monospace\">      ┌───┐                                                                                                                             ┌───────┐┌─┐                     \n",
       " q_0: ┤ H ├───────■─────────────────────────────────────────────────────────────────────────────────────────────────────────────────────┤0      ├┤M├─────────────────────\n",
       "      ├───┤       │                                                                                                                     │       │└╥┘┌─┐                  \n",
       " q_1: ┤ H ├───────┼──────────────■──────────────────────────────────────────────────────────────────────────────────────────────────────┤1      ├─╫─┤M├──────────────────\n",
       "      ├───┤       │              │                                                                                                      │       │ ║ └╥┘┌─┐               \n",
       " q_2: ┤ H ├───────┼──────────────┼──────────────■───────────────────────────────────────────────────────────────────────────────────────┤2      ├─╫──╫─┤M├───────────────\n",
       "      ├───┤       │              │              │                                                                                       │       │ ║  ║ └╥┘┌─┐            \n",
       " q_3: ┤ H ├───────┼──────────────┼──────────────┼──────────────■────────────────────────────────────────────────────────────────────────┤3      ├─╫──╫──╫─┤M├────────────\n",
       "      ├───┤       │              │              │              │                                                                        │  QFT† │ ║  ║  ║ └╥┘┌─┐         \n",
       " q_4: ┤ H ├───────┼──────────────┼──────────────┼──────────────┼──────────────■─────────────────────────────────────────────────────────┤4      ├─╫──╫──╫──╫─┤M├─────────\n",
       "      ├───┤       │              │              │              │              │                                                         │       │ ║  ║  ║  ║ └╥┘┌─┐      \n",
       " q_5: ┤ H ├───────┼──────────────┼──────────────┼──────────────┼──────────────┼───────────────■─────────────────────────────────────────┤5      ├─╫──╫──╫──╫──╫─┤M├──────\n",
       "      ├───┤       │              │              │              │              │               │                                         │       │ ║  ║  ║  ║  ║ └╥┘┌─┐   \n",
       " q_6: ┤ H ├───────┼──────────────┼──────────────┼──────────────┼──────────────┼───────────────┼───────────────■─────────────────────────┤6      ├─╫──╫──╫──╫──╫──╫─┤M├───\n",
       "      ├───┤       │              │              │              │              │               │               │                         │       │ ║  ║  ║  ║  ║  ║ └╥┘┌─┐\n",
       " q_7: ┤ H ├───────┼──────────────┼──────────────┼──────────────┼──────────────┼───────────────┼───────────────┼────────────────■────────┤7      ├─╫──╫──╫──╫──╫──╫──╫─┤M├\n",
       "      ├───┤┌──────┴──────┐┌──────┴──────┐┌──────┴──────┐┌──────┴──────┐┌──────┴───────┐┌──────┴───────┐┌──────┴───────┐┌───────┴───────┐└───────┘ ║  ║  ║  ║  ║  ║  ║ └╥┘\n",
       " q_8: ┤ X ├┤0            ├┤0            ├┤0            ├┤0            ├┤0             ├┤0             ├┤0             ├┤0              ├──────────╫──╫──╫──╫──╫──╫──╫──╫─\n",
       "      └───┘│             ││             ││             ││             ││              ││              ││              ││               │          ║  ║  ║  ║  ║  ║  ║  ║ \n",
       " q_9: ─────┤1            ├┤1            ├┤1            ├┤1            ├┤1             ├┤1             ├┤1             ├┤1              ├──────────╫──╫──╫──╫──╫──╫──╫──╫─\n",
       "           │  7^1 mod 15 ││  7^2 mod 15 ││  7^4 mod 15 ││  7^8 mod 15 ││  7^16 mod 15 ││  7^32 mod 15 ││  7^64 mod 15 ││  7^128 mod 15 │          ║  ║  ║  ║  ║  ║  ║  ║ \n",
       "q_10: ─────┤2            ├┤2            ├┤2            ├┤2            ├┤2             ├┤2             ├┤2             ├┤2              ├──────────╫──╫──╫──╫──╫──╫──╫──╫─\n",
       "           │             ││             ││             ││             ││              ││              ││              ││               │          ║  ║  ║  ║  ║  ║  ║  ║ \n",
       "q_11: ─────┤3            ├┤3            ├┤3            ├┤3            ├┤3             ├┤3             ├┤3             ├┤3              ├──────────╫──╫──╫──╫──╫──╫──╫──╫─\n",
       "           └─────────────┘└─────────────┘└─────────────┘└─────────────┘└──────────────┘└──────────────┘└──────────────┘└───────────────┘          ║  ║  ║  ║  ║  ║  ║  ║ \n",
       " c: 8/════════════════════════════════════════════════════════════════════════════════════════════════════════════════════════════════════════════╩══╩══╩══╩══╩══╩══╩══╩═\n",
       "                                                                                                                                                  0  1  2  3  4  5  6  7 </pre>"
      ],
      "text/plain": [
       "      ┌───┐                                                                                                                             ┌───────┐┌─┐                     \n",
       " q_0: ┤ H ├───────■─────────────────────────────────────────────────────────────────────────────────────────────────────────────────────┤0      ├┤M├─────────────────────\n",
       "      ├───┤       │                                                                                                                     │       │└╥┘┌─┐                  \n",
       " q_1: ┤ H ├───────┼──────────────■──────────────────────────────────────────────────────────────────────────────────────────────────────┤1      ├─╫─┤M├──────────────────\n",
       "      ├───┤       │              │                                                                                                      │       │ ║ └╥┘┌─┐               \n",
       " q_2: ┤ H ├───────┼──────────────┼──────────────■───────────────────────────────────────────────────────────────────────────────────────┤2      ├─╫──╫─┤M├───────────────\n",
       "      ├───┤       │              │              │                                                                                       │       │ ║  ║ └╥┘┌─┐            \n",
       " q_3: ┤ H ├───────┼──────────────┼──────────────┼──────────────■────────────────────────────────────────────────────────────────────────┤3      ├─╫──╫──╫─┤M├────────────\n",
       "      ├───┤       │              │              │              │                                                                        │  QFT† │ ║  ║  ║ └╥┘┌─┐         \n",
       " q_4: ┤ H ├───────┼──────────────┼──────────────┼──────────────┼──────────────■─────────────────────────────────────────────────────────┤4      ├─╫──╫──╫──╫─┤M├─────────\n",
       "      ├───┤       │              │              │              │              │                                                         │       │ ║  ║  ║  ║ └╥┘┌─┐      \n",
       " q_5: ┤ H ├───────┼──────────────┼──────────────┼──────────────┼──────────────┼───────────────■─────────────────────────────────────────┤5      ├─╫──╫──╫──╫──╫─┤M├──────\n",
       "      ├───┤       │              │              │              │              │               │                                         │       │ ║  ║  ║  ║  ║ └╥┘┌─┐   \n",
       " q_6: ┤ H ├───────┼──────────────┼──────────────┼──────────────┼──────────────┼───────────────┼───────────────■─────────────────────────┤6      ├─╫──╫──╫──╫──╫──╫─┤M├───\n",
       "      ├───┤       │              │              │              │              │               │               │                         │       │ ║  ║  ║  ║  ║  ║ └╥┘┌─┐\n",
       " q_7: ┤ H ├───────┼──────────────┼──────────────┼──────────────┼──────────────┼───────────────┼───────────────┼────────────────■────────┤7      ├─╫──╫──╫──╫──╫──╫──╫─┤M├\n",
       "      ├───┤┌──────┴──────┐┌──────┴──────┐┌──────┴──────┐┌──────┴──────┐┌──────┴───────┐┌──────┴───────┐┌──────┴───────┐┌───────┴───────┐└───────┘ ║  ║  ║  ║  ║  ║  ║ └╥┘\n",
       " q_8: ┤ X ├┤0            ├┤0            ├┤0            ├┤0            ├┤0             ├┤0             ├┤0             ├┤0              ├──────────╫──╫──╫──╫──╫──╫──╫──╫─\n",
       "      └───┘│             ││             ││             ││             ││              ││              ││              ││               │          ║  ║  ║  ║  ║  ║  ║  ║ \n",
       " q_9: ─────┤1            ├┤1            ├┤1            ├┤1            ├┤1             ├┤1             ├┤1             ├┤1              ├──────────╫──╫──╫──╫──╫──╫──╫──╫─\n",
       "           │  7^1 mod 15 ││  7^2 mod 15 ││  7^4 mod 15 ││  7^8 mod 15 ││  7^16 mod 15 ││  7^32 mod 15 ││  7^64 mod 15 ││  7^128 mod 15 │          ║  ║  ║  ║  ║  ║  ║  ║ \n",
       "q_10: ─────┤2            ├┤2            ├┤2            ├┤2            ├┤2             ├┤2             ├┤2             ├┤2              ├──────────╫──╫──╫──╫──╫──╫──╫──╫─\n",
       "           │             ││             ││             ││             ││              ││              ││              ││               │          ║  ║  ║  ║  ║  ║  ║  ║ \n",
       "q_11: ─────┤3            ├┤3            ├┤3            ├┤3            ├┤3             ├┤3             ├┤3             ├┤3              ├──────────╫──╫──╫──╫──╫──╫──╫──╫─\n",
       "           └─────────────┘└─────────────┘└─────────────┘└─────────────┘└──────────────┘└──────────────┘└──────────────┘└───────────────┘          ║  ║  ║  ║  ║  ║  ║  ║ \n",
       " c: 8/════════════════════════════════════════════════════════════════════════════════════════════════════════════════════════════════════════════╩══╩══╩══╩══╩══╩══╩══╩═\n",
       "                                                                                                                                                  0  1  2  3  4  5  6  7 "
      ]
     },
     "execution_count": 21,
     "metadata": {},
     "output_type": "execute_result"
    }
   ],
   "source": [
    "# Specify variables\n",
    "N_COUNT = 8  # number of counting qubits\n",
    "a = 7\n",
    "\n",
    "# Create QuantumCircuit with N_COUNT counting qubits\n",
    "# plus 4 qubits for U to act on\n",
    "qc = QuantumCircuit(N_COUNT + 4, N_COUNT)\n",
    "\n",
    "# Initialize counting qubits\n",
    "# in state |+>\n",
    "for q in range(N_COUNT):\n",
    "    qc.h(q)\n",
    "\n",
    "# And auxiliary register in state |1>\n",
    "qc.x(N_COUNT)\n",
    "\n",
    "# Do controlled-U operations\n",
    "for q in range(N_COUNT):\n",
    "    qc.append(circuit_amod15(a, 2**q),\n",
    "             [q] + [i+N_COUNT for i in range(4)])\n",
    "\n",
    "# Do inverse-QFT\n",
    "qc.append(qft_dagger(N_COUNT), range(N_COUNT))\n",
    "\n",
    "# Measure circuit\n",
    "qc.measure(range(N_COUNT), range(N_COUNT))\n",
    "qc.draw(fold=-1)  # -1 means 'do not fold'"
   ]
  },
  {
   "cell_type": "code",
   "execution_count": 11,
   "metadata": {},
   "outputs": [
    {
     "name": "stdout",
     "output_type": "stream",
     "text": [
      "job id: 79a90494-42a8-44d5-8f6a-e80bff6e8344\n",
      "resulting PUBs: 1\n",
      "associated metadata: {'shots': 1024, 'circuit_metadata': {}}\n",
      "associated DataBins: DataBin(c=BitArray(<shape=(), num_shots=1024, num_bits=8>))\n",
      "DataBin has attributes: dict_keys(['c'])\n",
      "Measurements: {'00000000': 254, '01000000': 264, '11000000': 265, '10000000': 241}\n",
      "254\n"
     ]
    }
   ],
   "source": [
    "from qiskit.transpiler.preset_passmanagers import generate_preset_pass_manager\n",
    "from qiskit_ibm_runtime import SamplerV2 as Sampler\n",
    "\n",
    "pass_manager = generate_preset_pass_manager(optimization_level=1, backend=backend)\n",
    "isa_qc: QuantumCircuit = pass_manager.run(qc)\n",
    "\n",
    "sampler = Sampler(backend)\n",
    "job = sampler.run([isa_qc])\n",
    "\n",
    "print(f\"job id: {job.job_id()}\")\n",
    "\n",
    "result = job.result()\n",
    "\n",
    "print(f\"resulting PUBs: {len(result)}\")\n",
    "print(f\"associated metadata: {result[0].metadata}\")\n",
    "print(f\"associated DataBins: {result[0].data}\")\n",
    "print(f\"DataBin has attributes: {result[0].data.keys()}\")\n",
    "print(f\"Measurements: {result[0].data.c.get_counts()}\")\n",
    "\n",
    "counts = result[0].data.c.get_counts()\n",
    "\n",
    "print(list(counts.values())[0])"
   ]
  },
  {
   "cell_type": "code",
   "execution_count": 12,
   "metadata": {},
   "outputs": [
    {
     "data": {
      "image/png": "[encoded data removed]",
      "text/plain": [
       "<Figure size 640x480 with 1 Axes>"
      ]
     },
     "execution_count": 12,
     "metadata": {},
     "output_type": "execute_result"
    }
   ],
   "source": [
    "from qiskit.visualization import plot_histogram\n",
    "\n",
    "plot_histogram(counts)"
   ]
  },
  {
   "cell_type": "code",
   "execution_count": 13,
   "metadata": {},
   "outputs": [
    {
     "name": "stdout",
     "output_type": "stream",
     "text": [
      "00000000\n",
      "01000000\n",
      "11000000\n",
      "10000000\n",
      "            Register Output           Phase Fraction  Guess for r\n",
      "0  00000000(bin) =   0(dec)    0/256 = 0.00      0/1            1\n",
      "1  01000000(bin) =  64(dec)   64/256 = 0.25      1/4            4\n",
      "2  11000000(bin) = 192(dec)  192/256 = 0.75      3/4            4\n",
      "3  10000000(bin) = 128(dec)  128/256 = 0.50      1/2            2\n"
     ]
    }
   ],
   "source": [
    "from fractions import Fraction\n",
    "import pandas as pd\n",
    "\n",
    "rows, measured_phases = [], []\n",
    "for output in counts:\n",
    "    print(output)\n",
    "\n",
    "    decimal = int(output, 2)  # Convert (base 2) string to decimal\n",
    "\n",
    "    phase = decimal/(2**N_COUNT)  # Find corresponding eigenvalue\n",
    "    measured_phases.append(phase)\n",
    "    frac = Fraction(phase).limit_denominator(15)\n",
    "    \n",
    "    # Add these values to the rows in our table:\n",
    "    rows.append([\n",
    "        f\"{output}(bin) = {decimal:>3}(dec)\",\n",
    "        f\"{decimal}/{2**N_COUNT} = {phase:.2f}\",\n",
    "        f\"{frac.numerator}/{frac.denominator}\",\n",
    "        frac.denominator\n",
    "    ])\n",
    "\n",
    "# Print the rows in a table\n",
    "headers=[\"Register Output\", \"Phase\", \"Fraction\", \"Guess for r\"]\n",
    "df = pd.DataFrame(rows, columns=headers)\n",
    "print(df)\n"
   ]
  },
  {
   "cell_type": "code",
   "execution_count": 22,
   "metadata": {},
   "outputs": [],
   "source": [
    "def qpe_amod15(a):\n",
    "    \"\"\"Performs quantum phase estimation on the operation a*r mod 15.\n",
    "    Args:\n",
    "        a (int): This is 'a' in a*r mod 15\n",
    "    Returns:\n",
    "        float: Estimate of the phase\n",
    "    \"\"\"\n",
    "    # Build Circuit\n",
    "    N_COUNT = 8\n",
    "\n",
    "    qc = QuantumCircuit(4+N_COUNT, N_COUNT)\n",
    "\n",
    "    for q in range(N_COUNT):\n",
    "        qc.h(q)     # Initialize counting qubits in state |+>\n",
    "    \n",
    "    qc.x(N_COUNT) # And auxiliary register in state |1>\n",
    "\n",
    "    for q in range(N_COUNT): # Do controlled-U operations\n",
    "        qc.append(circuit_amod15(a, 2**q), [q] + [i+N_COUNT for i in range(4)])\n",
    "    \n",
    "    qc.append(qft_dagger(N_COUNT), range(N_COUNT)) # Do inverse-QFT\n",
    "    qc.measure(range(N_COUNT), range(N_COUNT))\n",
    "\n",
    "    # Execute\n",
    "    pass_manager = generate_preset_pass_manager(optimization_level=1, backend=backend)\n",
    "    isa_qc: QuantumCircuit = pass_manager.run(qc)\n",
    "    \n",
    "    sampler = Sampler(backend)\n",
    "    job = sampler.run([isa_qc])\n",
    "    \n",
    "    print(f\"job id: {job.job_id()}\")\n",
    "    \n",
    "    result = job.result()\n",
    "    \n",
    "    print(f\"resulting PUBs: {len(result)}\")\n",
    "    print(f\"associated metadata: {result[0].metadata}\")\n",
    "    print(f\"associated DataBins: {result[0].data}\")\n",
    "    print(f\"DataBin has attributes: {result[0].data.keys()}\")\n",
    "    print(f\"Measurements: {result[0].data.c.get_counts()}\")\n",
    "\n",
    "    counts = result[0].data.c.get_counts()\n",
    "    reading = list(counts.keys())[0]\n",
    "    phase = int(reading, 2) / (2**N_COUNT)\n",
    "\n",
    "    print(f\"Register: reading = {reading} phase = {phase}\")\n",
    "\n",
    "    return phase\n",
    "    "
   ]
  },
  {
   "cell_type": "code",
   "execution_count": 23,
   "metadata": {},
   "outputs": [
    {
     "name": "stdout",
     "output_type": "stream",
     "text": [
      "Choosing a value for `a` with N as: 15\n",
      "Using `a` as: 11\n",
      "Starting Shor's Algo With: timeout = 60s N = 15 a = 11 MAX_TRIVIAL_FACTORS_TO_FIND = 2\n",
      "\n",
      "ATTEMPT 1:\n",
      "job id: ef32305d-bb7a-4e71-a318-df6849335e1d\n",
      "resulting PUBs: 1\n",
      "associated metadata: {'shots': 1024, 'circuit_metadata': {}}\n",
      "associated DataBins: DataBin(c=BitArray(<shape=(), num_shots=1024, num_bits=8>))\n",
      "DataBin has attributes: dict_keys(['c'])\n",
      "Measurements: {'10000000': 546, '00000000': 478}\n",
      "Register: reading = 10000000 phase = 0.5\n",
      "Result: r = 2\n",
      "Guessed Factors: 5 and 3\n",
      "*** Non-trivial factor found: 5 ***\n",
      "*** Non-trivial factor found: 3 ***\n",
      "Non-Trivial Factors Found: dict_keys([5, 3])\n"
     ]
    }
   ],
   "source": [
    "from math import gcd\n",
    "from datetime import datetime as dt\n",
    "\n",
    "import random\n",
    "\n",
    "N = 15\n",
    "TIMEOUT = 60\n",
    "MAX_TRIVIAL_FACTORS_TO_FIND = 2\n",
    "\n",
    "print(f\"Choosing a value for `a` with N as: {N}\")\n",
    "\n",
    "a = random.choice([2, 4, 7, 8, 11, 13])\n",
    "\n",
    "while a > N or gcd(a, N) != 1:\n",
    "    a = random.choice([2, 4, 7, 8, 11, 13])\n",
    "\n",
    "print(f\"Using `a` as: {a}\")\n",
    "\n",
    "print(f\"Starting Shor's Algo With: timeout = {TIMEOUT}s N = {N} a = {a} MAX_TRIVIAL_FACTORS_TO_FIND = {MAX_TRIVIAL_FACTORS_TO_FIND}\")\n",
    "\n",
    "attempt, found, start_time = 0, {}, dt.now()\n",
    "\n",
    "while (len(found) < MAX_TRIVIAL_FACTORS_TO_FIND) and ((dt.now() - start_time).total_seconds() < TIMEOUT):\n",
    "    attempt += 1\n",
    "    \n",
    "    print(f\"\\nATTEMPT {attempt}:\")\n",
    "\n",
    "    phase = qpe_amod15(a) # Phase = s/r\n",
    "    frac = Fraction(phase).limit_denominator(N)\n",
    "    r = frac.denominator\n",
    "\n",
    "    print(f\"Result: r = {r}\")\n",
    "\n",
    "    if phase != 0:\n",
    "        guesses = [gcd(a**(r//2)-1, N), gcd(a**(r//2)+1, N)]\n",
    "        print(f\"Guessed Factors: {guesses[0]} and {guesses[1]}\")\n",
    "        for guess in guesses:\n",
    "            if guess not in [1,N] and (N % guess) == 0:\n",
    "                print(f\"*** Non-trivial factor found: {guess} ***\")\n",
    "                found[guess] = True\n",
    "\n",
    "print(f\"Non-Trivial Factors Found: {found.keys()}\")"
   ]
  },
  {
   "cell_type": "code",
   "execution_count": 75,
   "metadata": {},
   "outputs": [
    {
     "name": "stdout",
     "output_type": "stream",
     "text": [
      "N^2 = 5929 < T = 8192 < 2N^2 = 11858\n",
      "n = log2 N = 6.266786540694901\n"
     ]
    }
   ],
   "source": [
    "import math\n",
    "\n",
    "t = 13\n",
    "T = 2 ** 13\n",
    "N = 77\n",
    "\n",
    "print(f\"N^2 = {N**2} < T = {T} < 2N^2 = {2 * (N**2)}\")\n",
    "print(f\"n = log2 N = {math.log2(N)}\")"
   ]
  },
  {
   "cell_type": "code",
   "execution_count": 78,
   "metadata": {},
   "outputs": [
    {
     "data": {
      "text/plain": [
       "7"
      ]
     },
     "execution_count": 78,
     "metadata": {},
     "output_type": "execute_result"
    }
   ],
   "source": [
    "n = len(\"{0:b}\".format(77))\n",
    "a = 2\n",
    "N = 15\n",
    "\n",
    "n"
   ]
  },
  {
   "cell_type": "code",
   "execution_count": 13,
   "metadata": {},
   "outputs": [],
   "source": [
    "import numpy as np\n",
    "\n",
    "def a2jmodN(a, j, N):\n",
    "    \"\"\"\n",
    "    Compute a^{2^j} (mod N) by repeated squaring\n",
    "    \n",
    "    Parameters:\n",
    "    -----------\n",
    "    a: int\n",
    "        Value for a\n",
    "    j: int\n",
    "        Value for j\n",
    "    N: int\n",
    "        Value for N\n",
    "        \n",
    "    Returns:\n",
    "    --------\n",
    "    a: int\n",
    "        a^{2^j} (mod N)\n",
    "    \"\"\"\n",
    "    for i in range(j):\n",
    "        a = np.mod(a**2, N)\n",
    "    return a"
   ]
  },
  {
   "cell_type": "code",
   "execution_count": 14,
   "metadata": {},
   "outputs": [
    {
     "name": "stdout",
     "output_type": "stream",
     "text": [
      "[0, np.int64(0), np.int64(0), np.int64(0), np.int64(0), np.int64(0), np.int64(0), np.int64(0), np.int64(0), np.int64(0), np.int64(0), np.int64(0), np.int64(0), np.int64(0), np.int64(0), np.int64(0), np.int64(0), np.int64(0), np.int64(0), np.int64(0)]\n",
      "[1, np.int64(1), np.int64(1), np.int64(1), np.int64(1), np.int64(1), np.int64(1), np.int64(1), np.int64(1), np.int64(1), np.int64(1), np.int64(1), np.int64(1), np.int64(1), np.int64(1), np.int64(1), np.int64(1), np.int64(1), np.int64(1), np.int64(1)]\n",
      "[2, np.int64(4), np.int64(16), np.int64(25), np.int64(9), np.int64(4), np.int64(16), np.int64(25), np.int64(9), np.int64(4), np.int64(16), np.int64(25), np.int64(9), np.int64(4), np.int64(16), np.int64(25), np.int64(9), np.int64(4), np.int64(16), np.int64(25)]\n",
      "[3, np.int64(9), np.int64(4), np.int64(16), np.int64(25), np.int64(9), np.int64(4), np.int64(16), np.int64(25), np.int64(9), np.int64(4), np.int64(16), np.int64(25), np.int64(9), np.int64(4), np.int64(16), np.int64(25), np.int64(9), np.int64(4), np.int64(16)]\n",
      "[4, np.int64(16), np.int64(25), np.int64(9), np.int64(4), np.int64(16), np.int64(25), np.int64(9), np.int64(4), np.int64(16), np.int64(25), np.int64(9), np.int64(4), np.int64(16), np.int64(25), np.int64(9), np.int64(4), np.int64(16), np.int64(25), np.int64(9)]\n",
      "[5, np.int64(25), np.int64(9), np.int64(4), np.int64(16), np.int64(25), np.int64(9), np.int64(4), np.int64(16), np.int64(25), np.int64(9), np.int64(4), np.int64(16), np.int64(25), np.int64(9), np.int64(4), np.int64(16), np.int64(25), np.int64(9), np.int64(4)]\n",
      "[6, np.int64(36), np.int64(64), np.int64(15), np.int64(71), np.int64(36), np.int64(64), np.int64(15), np.int64(71), np.int64(36), np.int64(64), np.int64(15), np.int64(71), np.int64(36), np.int64(64), np.int64(15), np.int64(71), np.int64(36), np.int64(64), np.int64(15)]\n",
      "[7, np.int64(49), np.int64(14), np.int64(42), np.int64(70), np.int64(49), np.int64(14), np.int64(42), np.int64(70), np.int64(49), np.int64(14), np.int64(42), np.int64(70), np.int64(49), np.int64(14), np.int64(42), np.int64(70), np.int64(49), np.int64(14), np.int64(42)]\n",
      "[8, np.int64(64), np.int64(15), np.int64(71), np.int64(36), np.int64(64), np.int64(15), np.int64(71), np.int64(36), np.int64(64), np.int64(15), np.int64(71), np.int64(36), np.int64(64), np.int64(15), np.int64(71), np.int64(36), np.int64(64), np.int64(15), np.int64(71)]\n",
      "[9, np.int64(4), np.int64(16), np.int64(25), np.int64(9), np.int64(4), np.int64(16), np.int64(25), np.int64(9), np.int64(4), np.int64(16), np.int64(25), np.int64(9), np.int64(4), np.int64(16), np.int64(25), np.int64(9), np.int64(4), np.int64(16), np.int64(25)]\n",
      "[10, np.int64(23), np.int64(67), np.int64(23), np.int64(67), np.int64(23), np.int64(67), np.int64(23), np.int64(67), np.int64(23), np.int64(67), np.int64(23), np.int64(67), np.int64(23), np.int64(67), np.int64(23), np.int64(67), np.int64(23), np.int64(67), np.int64(23)]\n",
      "[11, np.int64(44), np.int64(11), np.int64(44), np.int64(11), np.int64(44), np.int64(11), np.int64(44), np.int64(11), np.int64(44), np.int64(11), np.int64(44), np.int64(11), np.int64(44), np.int64(11), np.int64(44), np.int64(11), np.int64(44), np.int64(11), np.int64(44)]\n",
      "[12, np.int64(67), np.int64(23), np.int64(67), np.int64(23), np.int64(67), np.int64(23), np.int64(67), np.int64(23), np.int64(67), np.int64(23), np.int64(67), np.int64(23), np.int64(67), np.int64(23), np.int64(67), np.int64(23), np.int64(67), np.int64(23), np.int64(67)]\n",
      "[13, np.int64(15), np.int64(71), np.int64(36), np.int64(64), np.int64(15), np.int64(71), np.int64(36), np.int64(64), np.int64(15), np.int64(71), np.int64(36), np.int64(64), np.int64(15), np.int64(71), np.int64(36), np.int64(64), np.int64(15), np.int64(71), np.int64(36)]\n",
      "[14, np.int64(42), np.int64(70), np.int64(49), np.int64(14), np.int64(42), np.int64(70), np.int64(49), np.int64(14), np.int64(42), np.int64(70), np.int64(49), np.int64(14), np.int64(42), np.int64(70), np.int64(49), np.int64(14), np.int64(42), np.int64(70), np.int64(49)]\n",
      "[15, np.int64(71), np.int64(36), np.int64(64), np.int64(15), np.int64(71), np.int64(36), np.int64(64), np.int64(15), np.int64(71), np.int64(36), np.int64(64), np.int64(15), np.int64(71), np.int64(36), np.int64(64), np.int64(15), np.int64(71), np.int64(36), np.int64(64)]\n",
      "[16, np.int64(25), np.int64(9), np.int64(4), np.int64(16), np.int64(25), np.int64(9), np.int64(4), np.int64(16), np.int64(25), np.int64(9), np.int64(4), np.int64(16), np.int64(25), np.int64(9), np.int64(4), np.int64(16), np.int64(25), np.int64(9), np.int64(4)]\n",
      "[17, np.int64(58), np.int64(53), np.int64(37), np.int64(60), np.int64(58), np.int64(53), np.int64(37), np.int64(60), np.int64(58), np.int64(53), np.int64(37), np.int64(60), np.int64(58), np.int64(53), np.int64(37), np.int64(60), np.int64(58), np.int64(53), np.int64(37)]\n",
      "[18, np.int64(16), np.int64(25), np.int64(9), np.int64(4), np.int64(16), np.int64(25), np.int64(9), np.int64(4), np.int64(16), np.int64(25), np.int64(9), np.int64(4), np.int64(16), np.int64(25), np.int64(9), np.int64(4), np.int64(16), np.int64(25), np.int64(9)]\n",
      "[19, np.int64(53), np.int64(37), np.int64(60), np.int64(58), np.int64(53), np.int64(37), np.int64(60), np.int64(58), np.int64(53), np.int64(37), np.int64(60), np.int64(58), np.int64(53), np.int64(37), np.int64(60), np.int64(58), np.int64(53), np.int64(37), np.int64(60)]\n",
      "[20, np.int64(15), np.int64(71), np.int64(36), np.int64(64), np.int64(15), np.int64(71), np.int64(36), np.int64(64), np.int64(15), np.int64(71), np.int64(36), np.int64(64), np.int64(15), np.int64(71), np.int64(36), np.int64(64), np.int64(15), np.int64(71), np.int64(36)]\n",
      "[21, np.int64(56), np.int64(56), np.int64(56), np.int64(56), np.int64(56), np.int64(56), np.int64(56), np.int64(56), np.int64(56), np.int64(56), np.int64(56), np.int64(56), np.int64(56), np.int64(56), np.int64(56), np.int64(56), np.int64(56), np.int64(56), np.int64(56)]\n",
      "[22, np.int64(22), np.int64(22), np.int64(22), np.int64(22), np.int64(22), np.int64(22), np.int64(22), np.int64(22), np.int64(22), np.int64(22), np.int64(22), np.int64(22), np.int64(22), np.int64(22), np.int64(22), np.int64(22), np.int64(22), np.int64(22), np.int64(22)]\n",
      "[23, np.int64(67), np.int64(23), np.int64(67), np.int64(23), np.int64(67), np.int64(23), np.int64(67), np.int64(23), np.int64(67), np.int64(23), np.int64(67), np.int64(23), np.int64(67), np.int64(23), np.int64(67), np.int64(23), np.int64(67), np.int64(23), np.int64(67)]\n",
      "[24, np.int64(37), np.int64(60), np.int64(58), np.int64(53), np.int64(37), np.int64(60), np.int64(58), np.int64(53), np.int64(37), np.int64(60), np.int64(58), np.int64(53), np.int64(37), np.int64(60), np.int64(58), np.int64(53), np.int64(37), np.int64(60), np.int64(58)]\n",
      "[25, np.int64(9), np.int64(4), np.int64(16), np.int64(25), np.int64(9), np.int64(4), np.int64(16), np.int64(25), np.int64(9), np.int64(4), np.int64(16), np.int64(25), np.int64(9), np.int64(4), np.int64(16), np.int64(25), np.int64(9), np.int64(4), np.int64(16)]\n",
      "[26, np.int64(60), np.int64(58), np.int64(53), np.int64(37), np.int64(60), np.int64(58), np.int64(53), np.int64(37), np.int64(60), np.int64(58), np.int64(53), np.int64(37), np.int64(60), np.int64(58), np.int64(53), np.int64(37), np.int64(60), np.int64(58), np.int64(53)]\n",
      "[27, np.int64(36), np.int64(64), np.int64(15), np.int64(71), np.int64(36), np.int64(64), np.int64(15), np.int64(71), np.int64(36), np.int64(64), np.int64(15), np.int64(71), np.int64(36), np.int64(64), np.int64(15), np.int64(71), np.int64(36), np.int64(64), np.int64(15)]\n",
      "[28, np.int64(14), np.int64(42), np.int64(70), np.int64(49), np.int64(14), np.int64(42), np.int64(70), np.int64(49), np.int64(14), np.int64(42), np.int64(70), np.int64(49), np.int64(14), np.int64(42), np.int64(70), np.int64(49), np.int64(14), np.int64(42), np.int64(70)]\n",
      "[29, np.int64(71), np.int64(36), np.int64(64), np.int64(15), np.int64(71), np.int64(36), np.int64(64), np.int64(15), np.int64(71), np.int64(36), np.int64(64), np.int64(15), np.int64(71), np.int64(36), np.int64(64), np.int64(15), np.int64(71), np.int64(36), np.int64(64)]\n",
      "[30, np.int64(53), np.int64(37), np.int64(60), np.int64(58), np.int64(53), np.int64(37), np.int64(60), np.int64(58), np.int64(53), np.int64(37), np.int64(60), np.int64(58), np.int64(53), np.int64(37), np.int64(60), np.int64(58), np.int64(53), np.int64(37), np.int64(60)]\n",
      "[31, np.int64(37), np.int64(60), np.int64(58), np.int64(53), np.int64(37), np.int64(60), np.int64(58), np.int64(53), np.int64(37), np.int64(60), np.int64(58), np.int64(53), np.int64(37), np.int64(60), np.int64(58), np.int64(53), np.int64(37), np.int64(60), np.int64(58)]\n",
      "[32, np.int64(23), np.int64(67), np.int64(23), np.int64(67), np.int64(23), np.int64(67), np.int64(23), np.int64(67), np.int64(23), np.int64(67), np.int64(23), np.int64(67), np.int64(23), np.int64(67), np.int64(23), np.int64(67), np.int64(23), np.int64(67), np.int64(23)]\n",
      "[33, np.int64(11), np.int64(44), np.int64(11), np.int64(44), np.int64(11), np.int64(44), np.int64(11), np.int64(44), np.int64(11), np.int64(44), np.int64(11), np.int64(44), np.int64(11), np.int64(44), np.int64(11), np.int64(44), np.int64(11), np.int64(44), np.int64(11)]\n",
      "[34, np.int64(1), np.int64(1), np.int64(1), np.int64(1), np.int64(1), np.int64(1), np.int64(1), np.int64(1), np.int64(1), np.int64(1), np.int64(1), np.int64(1), np.int64(1), np.int64(1), np.int64(1), np.int64(1), np.int64(1), np.int64(1), np.int64(1)]\n",
      "[35, np.int64(70), np.int64(49), np.int64(14), np.int64(42), np.int64(70), np.int64(49), np.int64(14), np.int64(42), np.int64(70), np.int64(49), np.int64(14), np.int64(42), np.int64(70), np.int64(49), np.int64(14), np.int64(42), np.int64(70), np.int64(49), np.int64(14)]\n",
      "[36, np.int64(64), np.int64(15), np.int64(71), np.int64(36), np.int64(64), np.int64(15), np.int64(71), np.int64(36), np.int64(64), np.int64(15), np.int64(71), np.int64(36), np.int64(64), np.int64(15), np.int64(71), np.int64(36), np.int64(64), np.int64(15), np.int64(71)]\n",
      "[37, np.int64(60), np.int64(58), np.int64(53), np.int64(37), np.int64(60), np.int64(58), np.int64(53), np.int64(37), np.int64(60), np.int64(58), np.int64(53), np.int64(37), np.int64(60), np.int64(58), np.int64(53), np.int64(37), np.int64(60), np.int64(58), np.int64(53)]\n",
      "[38, np.int64(58), np.int64(53), np.int64(37), np.int64(60), np.int64(58), np.int64(53), np.int64(37), np.int64(60), np.int64(58), np.int64(53), np.int64(37), np.int64(60), np.int64(58), np.int64(53), np.int64(37), np.int64(60), np.int64(58), np.int64(53), np.int64(37)]\n",
      "[39, np.int64(58), np.int64(53), np.int64(37), np.int64(60), np.int64(58), np.int64(53), np.int64(37), np.int64(60), np.int64(58), np.int64(53), np.int64(37), np.int64(60), np.int64(58), np.int64(53), np.int64(37), np.int64(60), np.int64(58), np.int64(53), np.int64(37)]\n",
      "[40, np.int64(60), np.int64(58), np.int64(53), np.int64(37), np.int64(60), np.int64(58), np.int64(53), np.int64(37), np.int64(60), np.int64(58), np.int64(53), np.int64(37), np.int64(60), np.int64(58), np.int64(53), np.int64(37), np.int64(60), np.int64(58), np.int64(53)]\n",
      "[41, np.int64(64), np.int64(15), np.int64(71), np.int64(36), np.int64(64), np.int64(15), np.int64(71), np.int64(36), np.int64(64), np.int64(15), np.int64(71), np.int64(36), np.int64(64), np.int64(15), np.int64(71), np.int64(36), np.int64(64), np.int64(15), np.int64(71)]\n",
      "[42, np.int64(70), np.int64(49), np.int64(14), np.int64(42), np.int64(70), np.int64(49), np.int64(14), np.int64(42), np.int64(70), np.int64(49), np.int64(14), np.int64(42), np.int64(70), np.int64(49), np.int64(14), np.int64(42), np.int64(70), np.int64(49), np.int64(14)]\n",
      "[43, np.int64(1), np.int64(1), np.int64(1), np.int64(1), np.int64(1), np.int64(1), np.int64(1), np.int64(1), np.int64(1), np.int64(1), np.int64(1), np.int64(1), np.int64(1), np.int64(1), np.int64(1), np.int64(1), np.int64(1), np.int64(1), np.int64(1)]\n",
      "[44, np.int64(11), np.int64(44), np.int64(11), np.int64(44), np.int64(11), np.int64(44), np.int64(11), np.int64(44), np.int64(11), np.int64(44), np.int64(11), np.int64(44), np.int64(11), np.int64(44), np.int64(11), np.int64(44), np.int64(11), np.int64(44), np.int64(11)]\n",
      "[45, np.int64(23), np.int64(67), np.int64(23), np.int64(67), np.int64(23), np.int64(67), np.int64(23), np.int64(67), np.int64(23), np.int64(67), np.int64(23), np.int64(67), np.int64(23), np.int64(67), np.int64(23), np.int64(67), np.int64(23), np.int64(67), np.int64(23)]\n",
      "[46, np.int64(37), np.int64(60), np.int64(58), np.int64(53), np.int64(37), np.int64(60), np.int64(58), np.int64(53), np.int64(37), np.int64(60), np.int64(58), np.int64(53), np.int64(37), np.int64(60), np.int64(58), np.int64(53), np.int64(37), np.int64(60), np.int64(58)]\n",
      "[47, np.int64(53), np.int64(37), np.int64(60), np.int64(58), np.int64(53), np.int64(37), np.int64(60), np.int64(58), np.int64(53), np.int64(37), np.int64(60), np.int64(58), np.int64(53), np.int64(37), np.int64(60), np.int64(58), np.int64(53), np.int64(37), np.int64(60)]\n",
      "[48, np.int64(71), np.int64(36), np.int64(64), np.int64(15), np.int64(71), np.int64(36), np.int64(64), np.int64(15), np.int64(71), np.int64(36), np.int64(64), np.int64(15), np.int64(71), np.int64(36), np.int64(64), np.int64(15), np.int64(71), np.int64(36), np.int64(64)]\n",
      "[49, np.int64(14), np.int64(42), np.int64(70), np.int64(49), np.int64(14), np.int64(42), np.int64(70), np.int64(49), np.int64(14), np.int64(42), np.int64(70), np.int64(49), np.int64(14), np.int64(42), np.int64(70), np.int64(49), np.int64(14), np.int64(42), np.int64(70)]\n",
      "[50, np.int64(36), np.int64(64), np.int64(15), np.int64(71), np.int64(36), np.int64(64), np.int64(15), np.int64(71), np.int64(36), np.int64(64), np.int64(15), np.int64(71), np.int64(36), np.int64(64), np.int64(15), np.int64(71), np.int64(36), np.int64(64), np.int64(15)]\n",
      "[51, np.int64(60), np.int64(58), np.int64(53), np.int64(37), np.int64(60), np.int64(58), np.int64(53), np.int64(37), np.int64(60), np.int64(58), np.int64(53), np.int64(37), np.int64(60), np.int64(58), np.int64(53), np.int64(37), np.int64(60), np.int64(58), np.int64(53)]\n",
      "[52, np.int64(9), np.int64(4), np.int64(16), np.int64(25), np.int64(9), np.int64(4), np.int64(16), np.int64(25), np.int64(9), np.int64(4), np.int64(16), np.int64(25), np.int64(9), np.int64(4), np.int64(16), np.int64(25), np.int64(9), np.int64(4), np.int64(16)]\n",
      "[53, np.int64(37), np.int64(60), np.int64(58), np.int64(53), np.int64(37), np.int64(60), np.int64(58), np.int64(53), np.int64(37), np.int64(60), np.int64(58), np.int64(53), np.int64(37), np.int64(60), np.int64(58), np.int64(53), np.int64(37), np.int64(60), np.int64(58)]\n",
      "[54, np.int64(67), np.int64(23), np.int64(67), np.int64(23), np.int64(67), np.int64(23), np.int64(67), np.int64(23), np.int64(67), np.int64(23), np.int64(67), np.int64(23), np.int64(67), np.int64(23), np.int64(67), np.int64(23), np.int64(67), np.int64(23), np.int64(67)]\n",
      "[55, np.int64(22), np.int64(22), np.int64(22), np.int64(22), np.int64(22), np.int64(22), np.int64(22), np.int64(22), np.int64(22), np.int64(22), np.int64(22), np.int64(22), np.int64(22), np.int64(22), np.int64(22), np.int64(22), np.int64(22), np.int64(22), np.int64(22)]\n",
      "[56, np.int64(56), np.int64(56), np.int64(56), np.int64(56), np.int64(56), np.int64(56), np.int64(56), np.int64(56), np.int64(56), np.int64(56), np.int64(56), np.int64(56), np.int64(56), np.int64(56), np.int64(56), np.int64(56), np.int64(56), np.int64(56), np.int64(56)]\n",
      "[57, np.int64(15), np.int64(71), np.int64(36), np.int64(64), np.int64(15), np.int64(71), np.int64(36), np.int64(64), np.int64(15), np.int64(71), np.int64(36), np.int64(64), np.int64(15), np.int64(71), np.int64(36), np.int64(64), np.int64(15), np.int64(71), np.int64(36)]\n",
      "[58, np.int64(53), np.int64(37), np.int64(60), np.int64(58), np.int64(53), np.int64(37), np.int64(60), np.int64(58), np.int64(53), np.int64(37), np.int64(60), np.int64(58), np.int64(53), np.int64(37), np.int64(60), np.int64(58), np.int64(53), np.int64(37), np.int64(60)]\n",
      "[59, np.int64(16), np.int64(25), np.int64(9), np.int64(4), np.int64(16), np.int64(25), np.int64(9), np.int64(4), np.int64(16), np.int64(25), np.int64(9), np.int64(4), np.int64(16), np.int64(25), np.int64(9), np.int64(4), np.int64(16), np.int64(25), np.int64(9)]\n",
      "[60, np.int64(58), np.int64(53), np.int64(37), np.int64(60), np.int64(58), np.int64(53), np.int64(37), np.int64(60), np.int64(58), np.int64(53), np.int64(37), np.int64(60), np.int64(58), np.int64(53), np.int64(37), np.int64(60), np.int64(58), np.int64(53), np.int64(37)]\n",
      "[61, np.int64(25), np.int64(9), np.int64(4), np.int64(16), np.int64(25), np.int64(9), np.int64(4), np.int64(16), np.int64(25), np.int64(9), np.int64(4), np.int64(16), np.int64(25), np.int64(9), np.int64(4), np.int64(16), np.int64(25), np.int64(9), np.int64(4)]\n",
      "[62, np.int64(71), np.int64(36), np.int64(64), np.int64(15), np.int64(71), np.int64(36), np.int64(64), np.int64(15), np.int64(71), np.int64(36), np.int64(64), np.int64(15), np.int64(71), np.int64(36), np.int64(64), np.int64(15), np.int64(71), np.int64(36), np.int64(64)]\n",
      "[63, np.int64(42), np.int64(70), np.int64(49), np.int64(14), np.int64(42), np.int64(70), np.int64(49), np.int64(14), np.int64(42), np.int64(70), np.int64(49), np.int64(14), np.int64(42), np.int64(70), np.int64(49), np.int64(14), np.int64(42), np.int64(70), np.int64(49)]\n",
      "[64, np.int64(15), np.int64(71), np.int64(36), np.int64(64), np.int64(15), np.int64(71), np.int64(36), np.int64(64), np.int64(15), np.int64(71), np.int64(36), np.int64(64), np.int64(15), np.int64(71), np.int64(36), np.int64(64), np.int64(15), np.int64(71), np.int64(36)]\n",
      "[65, np.int64(67), np.int64(23), np.int64(67), np.int64(23), np.int64(67), np.int64(23), np.int64(67), np.int64(23), np.int64(67), np.int64(23), np.int64(67), np.int64(23), np.int64(67), np.int64(23), np.int64(67), np.int64(23), np.int64(67), np.int64(23), np.int64(67)]\n",
      "[66, np.int64(44), np.int64(11), np.int64(44), np.int64(11), np.int64(44), np.int64(11), np.int64(44), np.int64(11), np.int64(44), np.int64(11), np.int64(44), np.int64(11), np.int64(44), np.int64(11), np.int64(44), np.int64(11), np.int64(44), np.int64(11), np.int64(44)]\n",
      "[67, np.int64(23), np.int64(67), np.int64(23), np.int64(67), np.int64(23), np.int64(67), np.int64(23), np.int64(67), np.int64(23), np.int64(67), np.int64(23), np.int64(67), np.int64(23), np.int64(67), np.int64(23), np.int64(67), np.int64(23), np.int64(67), np.int64(23)]\n",
      "[68, np.int64(4), np.int64(16), np.int64(25), np.int64(9), np.int64(4), np.int64(16), np.int64(25), np.int64(9), np.int64(4), np.int64(16), np.int64(25), np.int64(9), np.int64(4), np.int64(16), np.int64(25), np.int64(9), np.int64(4), np.int64(16), np.int64(25)]\n",
      "[69, np.int64(64), np.int64(15), np.int64(71), np.int64(36), np.int64(64), np.int64(15), np.int64(71), np.int64(36), np.int64(64), np.int64(15), np.int64(71), np.int64(36), np.int64(64), np.int64(15), np.int64(71), np.int64(36), np.int64(64), np.int64(15), np.int64(71)]\n",
      "[70, np.int64(49), np.int64(14), np.int64(42), np.int64(70), np.int64(49), np.int64(14), np.int64(42), np.int64(70), np.int64(49), np.int64(14), np.int64(42), np.int64(70), np.int64(49), np.int64(14), np.int64(42), np.int64(70), np.int64(49), np.int64(14), np.int64(42)]\n",
      "[71, np.int64(36), np.int64(64), np.int64(15), np.int64(71), np.int64(36), np.int64(64), np.int64(15), np.int64(71), np.int64(36), np.int64(64), np.int64(15), np.int64(71), np.int64(36), np.int64(64), np.int64(15), np.int64(71), np.int64(36), np.int64(64), np.int64(15)]\n",
      "[72, np.int64(25), np.int64(9), np.int64(4), np.int64(16), np.int64(25), np.int64(9), np.int64(4), np.int64(16), np.int64(25), np.int64(9), np.int64(4), np.int64(16), np.int64(25), np.int64(9), np.int64(4), np.int64(16), np.int64(25), np.int64(9), np.int64(4)]\n",
      "[73, np.int64(16), np.int64(25), np.int64(9), np.int64(4), np.int64(16), np.int64(25), np.int64(9), np.int64(4), np.int64(16), np.int64(25), np.int64(9), np.int64(4), np.int64(16), np.int64(25), np.int64(9), np.int64(4), np.int64(16), np.int64(25), np.int64(9)]\n",
      "[74, np.int64(9), np.int64(4), np.int64(16), np.int64(25), np.int64(9), np.int64(4), np.int64(16), np.int64(25), np.int64(9), np.int64(4), np.int64(16), np.int64(25), np.int64(9), np.int64(4), np.int64(16), np.int64(25), np.int64(9), np.int64(4), np.int64(16)]\n",
      "[75, np.int64(4), np.int64(16), np.int64(25), np.int64(9), np.int64(4), np.int64(16), np.int64(25), np.int64(9), np.int64(4), np.int64(16), np.int64(25), np.int64(9), np.int64(4), np.int64(16), np.int64(25), np.int64(9), np.int64(4), np.int64(16), np.int64(25)]\n",
      "[76, np.int64(1), np.int64(1), np.int64(1), np.int64(1), np.int64(1), np.int64(1), np.int64(1), np.int64(1), np.int64(1), np.int64(1), np.int64(1), np.int64(1), np.int64(1), np.int64(1), np.int64(1), np.int64(1), np.int64(1), np.int64(1), np.int64(1)]\n"
     ]
    },
    {
     "data": {
      "text/plain": [
       "[None,\n",
       " None,\n",
       " None,\n",
       " None,\n",
       " None,\n",
       " None,\n",
       " None,\n",
       " None,\n",
       " None,\n",
       " None,\n",
       " None,\n",
       " None,\n",
       " None,\n",
       " None,\n",
       " None,\n",
       " None,\n",
       " None,\n",
       " None,\n",
       " None,\n",
       " None,\n",
       " None,\n",
       " None,\n",
       " None,\n",
       " None,\n",
       " None,\n",
       " None,\n",
       " None,\n",
       " None,\n",
       " None,\n",
       " None,\n",
       " None,\n",
       " None,\n",
       " None,\n",
       " None,\n",
       " None,\n",
       " None,\n",
       " None,\n",
       " None,\n",
       " None,\n",
       " None,\n",
       " None,\n",
       " None,\n",
       " None,\n",
       " None,\n",
       " None,\n",
       " None,\n",
       " None,\n",
       " None,\n",
       " None,\n",
       " None,\n",
       " None,\n",
       " None,\n",
       " None,\n",
       " None,\n",
       " None,\n",
       " None,\n",
       " None,\n",
       " None,\n",
       " None,\n",
       " None,\n",
       " None,\n",
       " None,\n",
       " None,\n",
       " None,\n",
       " None,\n",
       " None,\n",
       " None,\n",
       " None,\n",
       " None,\n",
       " None,\n",
       " None,\n",
       " None,\n",
       " None,\n",
       " None,\n",
       " None,\n",
       " None,\n",
       " None]"
      ]
     },
     "execution_count": 14,
     "metadata": {},
     "output_type": "execute_result"
    }
   ],
   "source": [
    "[print([a2jmodN(y, x, 77) for x in range(20)]) for y in range(77)]"
   ]
  },
  {
   "cell_type": "code",
   "execution_count": 9,
   "metadata": {},
   "outputs": [
    {
     "data": {
      "text/plain": [
       "11"
      ]
     },
     "execution_count": 9,
     "metadata": {},
     "output_type": "execute_result"
    }
   ],
   "source": [
    "from math import gcd\n",
    "\n",
    "gcd(11, 77)"
   ]
  }
 ],
 "metadata": {
  "kernelspec": {
   "display_name": ".venv",
   "language": "python",
   "name": "python3"
  },
  "language_info": {
   "codemirror_mode": {
    "name": "ipython",
    "version": 3
   },
   "file_extension": ".py",
   "mimetype": "text/x-python",
   "name": "python",
   "nbconvert_exporter": "python",
   "pygments_lexer": "ipython3",
   "version": "3.11.3"
  }
 },
 "nbformat": 4,
 "nbformat_minor": 2
}
